{
 "cells": [
  {
   "cell_type": "markdown",
   "metadata": {
    "colab_type": "text",
    "id": "view-in-github"
   },
   "source": [
    "<a href=\"https://colab.research.google.com/github/samuelAemro12/MachineLeraning_SchoolProject-/blob/main/MlCode.ipynb\" target=\"_parent\"><img src=\"https://colab.research.google.com/assets/colab-badge.svg\" alt=\"Open In Colab\"/></a>"
   ]
  },
  {
   "cell_type": "code",
   "execution_count": null,
   "metadata": {
    "colab": {
     "base_uri": "https://localhost:8080/"
    },
    "id": "OHIk5woIWvzo",
    "outputId": "fdef8128-7a98-4149-f97c-22ceb25c0438"
   },
   "outputs": [],
   "source": [
    "from google.colab import drive\n",
    "drive.mount('/content/drive')"
   ]
  },
  {
   "cell_type": "code",
   "execution_count": null,
   "metadata": {
    "id": "aonwBiuBY6rK"
   },
   "outputs": [],
   "source": [
    "# Data manipulation, analysis, and Visualization\n",
    "import pandas as pd\n",
    "import numpy as np\n",
    "import matplotlib.pyplot as plt\n",
    "import seaborn as sns\n",
    "\n",
    "# Machine Learning\n",
    "from sklearn.model_selection import train_test_split\n",
    "from sklearn.preprocessing import LabelEncoder\n",
    "from sklearn.ensemble import RandomForestClassifier\n",
    "from sklearn.naive_bayes import GaussianNB\n",
    "from sklearn.svm import SVC\n",
    "from sklearn.metrics import classification_report, accuracy_score\n",
    "from sklearn.metrics import f1_score"
   ]
  },
  {
   "cell_type": "code",
   "execution_count": null,
   "metadata": {
    "colab": {
     "base_uri": "https://localhost:8080/",
     "height": 365
    },
    "id": "pSbxvzhLZFnr",
    "outputId": "e6151844-7284-4498-dc1c-08a2e0ba8d59"
   },
   "outputs": [],
   "source": [
    "file_path = \"/content/drive/My Drive/ml-project/breast-cancer.csv\"\n",
    "breast_cancer = pd.read_csv(file_path)\n",
    "breast_cancer.head()"
   ]
  },
  {
   "cell_type": "code",
   "execution_count": null,
   "metadata": {
    "colab": {
     "base_uri": "https://localhost:8080/"
    },
    "id": "bw828Jflat0F",
    "outputId": "8b5abdbb-016e-4e08-bb2b-18946f167bac"
   },
   "outputs": [],
   "source": [
    "breast_cancer.drop_duplicates(inplace=True)\n",
    "print(\"\\nNumber of Rows After Dropping Duplicates:\", len(breast_cancer))\n",
    "#original 286"
   ]
  },
  {
   "cell_type": "code",
   "execution_count": null,
   "metadata": {
    "id": "JBivUHrhay-y"
   },
   "outputs": [],
   "source": [
    "# via Standardization\n",
    "# Replace '?' with NaN\n",
    "breast_cancer.replace('?', np.nan, inplace=True)"
   ]
  },
  {
   "cell_type": "code",
   "execution_count": null,
   "metadata": {
    "colab": {
     "base_uri": "https://localhost:8080/"
    },
    "id": "sojnemr3a1-3",
    "outputId": "4f8460df-4007-44b0-d987-1b5e354932fc"
   },
   "outputs": [],
   "source": [
    "# Check for missing values\n",
    "print(\"\\nMissing Values in Each Column:\")\n",
    "print(breast_cancer.isnull().sum())"
   ]
  },
  {
   "cell_type": "code",
   "execution_count": null,
   "metadata": {
    "colab": {
     "base_uri": "https://localhost:8080/",
     "height": 431
    },
    "id": "zK48Qstaa4UK",
    "outputId": "5e04ddc8-5455-4e3f-ddc3-82ad3cada08e"
   },
   "outputs": [],
   "source": [
    "# Visualize missing values\n",
    "plt.figure(figsize=(8, 4))\n",
    "sns.heatmap(breast_cancer.isnull(), cbar=False, cmap='viridis')\n",
    "plt.title('Missing Values Heatmap')\n",
    "plt.show()"
   ]
  },
  {
   "cell_type": "code",
   "execution_count": null,
   "metadata": {
    "id": "XEwvWx6ua6k3"
   },
   "outputs": [],
   "source": [
    "# Handle missing values\n",
    "for col in breast_cancer.columns:\n",
    "    if breast_cancer[col].dtype == 'object':\n",
    "        breast_cancer[col] = breast_cancer[col].fillna(breast_cancer[col].mode()[0])\n",
    "    elif breast_cancer[col].isnull().sum() > 0:\n",
    "        breast_cancer[col] = breast_cancer[col].fillna(breast_cancer[col].median())"
   ]
  },
  {
   "cell_type": "code",
   "execution_count": null,
   "metadata": {
    "colab": {
     "base_uri": "https://localhost:8080/",
     "height": 431
    },
    "id": "cVQY7qvfa9y-",
    "outputId": "09334421-11b2-4f9b-aaf6-f092c8a9e7c2"
   },
   "outputs": [],
   "source": [
    "# verify missing values after Handle\n",
    "plt.figure(figsize=(8, 4))\n",
    "sns.heatmap(breast_cancer.isnull(), cbar=False, cmap='viridis')\n",
    "plt.title('Missing Values Heatmap')\n",
    "plt.show()"
   ]
  },
  {
   "cell_type": "code",
   "execution_count": null,
   "metadata": {
    "colab": {
     "base_uri": "https://localhost:8080/"
    },
    "id": "JzCUHsHMa_4I",
    "outputId": "bc4387c1-c37d-4efb-c224-0a375118e90e"
   },
   "outputs": [],
   "source": [
    "# Verify that missing values are handled\n",
    "print(\"\\nMissing Values After Handling:\")\n",
    "print(breast_cancer.isnull().sum())"
   ]
  },
  {
   "cell_type": "code",
   "execution_count": null,
   "metadata": {
    "colab": {
     "base_uri": "https://localhost:8080/"
    },
    "id": "iystlxl4bCPZ",
    "outputId": "64a95c8e-6caf-4023-87c4-46f5eeffd8ae"
   },
   "outputs": [],
   "source": [
    "# Initialize LabelEncoder\n",
    "le = LabelEncoder()\n",
    "\n",
    "# Encode all categorical columns\n",
    "for col in breast_cancer.columns:\n",
    "    if breast_cancer[col].dtype == 'object':\n",
    "        breast_cancer[col] = le.fit_transform(breast_cancer[col])\n",
    "print(\"\\nEncoded Dataset Preview:\")\n",
    "print(breast_cancer.head())"
   ]
  },
  {
   "cell_type": "code",
   "execution_count": null,
   "metadata": {
    "colab": {
     "base_uri": "https://localhost:8080/",
     "height": 410
    },
    "id": "qrZ8N1HfbEmz",
    "outputId": "115554a3-6fde-4461-c611-2936da9456c4"
   },
   "outputs": [],
   "source": [
    "# identify numerical columns\n",
    "numerical_cols = ['deg-malig'] # only one numerical column in this dataset\n",
    "\n",
    "# plot histograms for numerical features\n",
    "for col in numerical_cols:\n",
    "    plt.figure(figsize=(6, 4))\n",
    "    sns.histplot(breast_cancer[col], kde=True, bins = 10)\n",
    "    plt.title(f'Distribution of {col}')\n",
    "    plt.xlabel(col)\n",
    "    plt.ylabel('Frequency')\n",
    "    plt.show()"
   ]
  },
  {
   "cell_type": "code",
   "execution_count": null,
   "metadata": {
    "id": "-TV6AagkbHKU"
   },
   "outputs": [],
   "source": [
    "# separate features (X) and target (y)\n",
    "X = breast_cancer.drop(columns=['Class'])\n",
    "y = breast_cancer['Class']"
   ]
  },
  {
   "cell_type": "code",
   "execution_count": null,
   "metadata": {
    "colab": {
     "base_uri": "https://localhost:8080/"
    },
    "id": "WoCirbDZbKAz",
    "outputId": "f919eb61-bfee-4843-d1be-e515b6f7f8d4"
   },
   "outputs": [],
   "source": [
    "X_train, X_test, y_train, y_test = train_test_split(X, y, test_size=0.2, random_state=42)\n",
    "\n",
    "# Check the shape of the splits\n",
    "print(\"\\nTraining and Testing Set Shapes:\")\n",
    "print(\"Training set:\", X_train.shape, y_train.shape)\n",
    "print(\"Testing set:\", X_test.shape, y_test.shape)"
   ]
  },
  {
   "cell_type": "code",
   "execution_count": null,
   "metadata": {
    "colab": {
     "base_uri": "https://localhost:8080/"
    },
    "id": "g-GEU27FbNqx",
    "outputId": "1d2ae779-ae95-45fe-8d91-5f434dd14669"
   },
   "outputs": [],
   "source": [
    "rf_model = RandomForestClassifier(random_state=42)\n",
    "rf_model.fit(X_train, y_train)\n",
    "\n",
    "# Make predictions\n",
    "rf_pred = rf_model.predict(X_test)\n",
    "\n",
    "# Evaluate performance\n",
    "print(\"\\nRandom Forest Classification Report:\")\n",
    "print(classification_report(y_test, rf_pred))\n",
    "print(\"Accuracy:\", accuracy_score(y_test, rf_pred))"
   ]
  },
  {
   "cell_type": "code",
   "execution_count": null,
   "metadata": {
    "colab": {
     "base_uri": "https://localhost:8080/"
    },
    "id": "0yatVpbrbULY",
    "outputId": "31c8e23b-dfc0-4895-a5ee-3f0ab6584c5d"
   },
   "outputs": [],
   "source": [
    "nb_model = GaussianNB()\n",
    "nb_model.fit(X_train, y_train)\n",
    "\n",
    "# Make predictions\n",
    "nb_pred = nb_model.predict(X_test)\n",
    "\n",
    "# Evaluate performance\n",
    "print(\"\\nNaive Bayes Classification Report:\")\n",
    "print(classification_report(y_test, nb_pred))\n",
    "print(\"Accuracy:\", accuracy_score(y_test, nb_pred))"
   ]
  },
  {
   "cell_type": "code",
   "execution_count": null,
   "metadata": {
    "colab": {
     "base_uri": "https://localhost:8080/"
    },
    "id": "dGBhgFkobaSv",
    "outputId": "cbec70b6-1109-48ed-b1d7-dc947ec3ba19"
   },
   "outputs": [],
   "source": [
    "svm_model = SVC(kernel='linear', random_state=42)\n",
    "svm_model.fit(X_train, y_train)\n",
    "\n",
    "svm_pred = svm_model.predict(X_test)\n",
    "\n",
    "print(\"\\nSVM Classification Report:\")\n",
    "print(classification_report(y_test, svm_pred))\n",
    "print(\"Accuracy:\", accuracy_score(y_test, svm_pred))"
   ]
  },
  {
   "cell_type": "code",
   "execution_count": null,
   "metadata": {
    "colab": {
     "base_uri": "https://localhost:8080/",
     "height": 554
    },
    "id": "gvf9y4S8bhrv",
    "outputId": "ff2f740d-db4f-4e09-c362-b995bc5359a9"
   },
   "outputs": [],
   "source": [
    "models = ['Random Forest', 'Naive Bayes', 'SVM']\n",
    "accuracies = [\n",
    "    accuracy_score(y_test, rf_pred),\n",
    "    accuracy_score(y_test, nb_pred),\n",
    "    accuracy_score(y_test, svm_pred)\n",
    "]\n",
    "\n",
    "# Create a DataFrame for comparison\n",
    "performance_df = pd.DataFrame({'Model': models, 'Accuracy': accuracies})\n",
    "print(\"\\nModel Comparison:\")\n",
    "print(performance_df)\n",
    "\n",
    "# Visualize the comparison\n",
    "plt.figure(figsize=(8, 5))\n",
    "sns.barplot(x='Model', y='Accuracy', data=performance_df)\n",
    "plt.title('Model Comparison')\n",
    "plt.show()"
   ]
  },
  {
   "cell_type": "code",
   "execution_count": null,
   "metadata": {
    "colab": {
     "base_uri": "https://localhost:8080/"
    },
    "id": "4vRrx6b2boBx",
    "outputId": "2fbb00dc-ef63-467e-edfc-c80598ca63db"
   },
   "outputs": [],
   "source": [
    "# Evaluate Random Forest\n",
    "rf_pred = rf_model.predict(X_test)\n",
    "rf_f1 = f1_score(y_test, rf_pred, pos_label=1)  # Use numeric label for 'recurrence-events'\n",
    "print(\"Random Forest F1-Score (Recurrence-Events):\", rf_f1)\n",
    "\n",
    "# Evaluate Naive Bayes\n",
    "nb_pred = nb_model.predict(X_test)\n",
    "nb_f1 = f1_score(y_test, nb_pred, pos_label=1)  # Use numeric label for 'recurrence-events'\n",
    "print(\"Naive Bayes F1-Score (Recurrence-Events):\", nb_f1)\n",
    "\n",
    "# Evaluate SVM\n",
    "svm_pred = svm_model.predict(X_test)\n",
    "svm_f1 = f1_score(y_test, svm_pred, pos_label=1)  # Use numeric label for 'recurrence-events'\n",
    "print(\"SVM F1-Score (Recurrence-Events):\", svm_f1)"
   ]
  },
  {
   "cell_type": "code",
   "execution_count": null,
   "metadata": {
    "colab": {
     "base_uri": "https://localhost:8080/",
     "height": 445
    },
    "id": "t7SJyVvdbsle",
    "outputId": "8814dd1b-e9d0-4e5d-8e18-4d00d77c3719"
   },
   "outputs": [],
   "source": [
    "# Store the F1-Scores in a dictionary\n",
    "f1_scores = {\n",
    "    'Model': ['Random Forest', 'Naive Bayes', 'SVM'],\n",
    "    'F1-Score': [rf_f1, nb_f1, svm_f1]\n",
    "}\n",
    "\n",
    "# Convert to a DataFrame for easier plotting\n",
    "f1_df = pd.DataFrame(f1_scores)\n",
    "\n",
    "# Create a bar plot\n",
    "plt.figure(figsize=(8, 5))\n",
    "sns.barplot(x='Model', y='F1-Score', data=f1_df, palette='Blues_d', hue='Model', legend=False)\n",
    "plt.title('Comparison of F1-Scores for Recurrence-Events')\n",
    "plt.ylabel('F1-Score')\n",
    "plt.xlabel('Model')\n",
    "plt.ylim(0, 1)  # Set y-axis limit between 0 and 1 for better visualization\n",
    "plt.show()"
   ]
  },
  {
   "cell_type": "code",
   "execution_count": null,
   "metadata": {
    "id": "YUTPMLhObx5L"
   },
   "outputs": [],
   "source": []
  }
 ],
 "metadata": {
  "colab": {
   "authorship_tag": "ABX9TyNejYjyjaLxQrttc3kf0OU7",
   "include_colab_link": true,
   "provenance": []
  },
  "kernelspec": {
   "display_name": "Python 3",
   "name": "python3"
  },
  "language_info": {
   "name": "python"
  }
 },
 "nbformat": 4,
 "nbformat_minor": 0
}
